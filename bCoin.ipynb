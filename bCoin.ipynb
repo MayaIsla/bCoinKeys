{
  "nbformat": 4,
  "nbformat_minor": 0,
  "metadata": {
    "kernelspec": {
      "display_name": "Python 3",
      "language": "python",
      "name": "python3"
    },
    "language_info": {
      "codemirror_mode": {
        "name": "ipython",
        "version": 3
      },
      "file_extension": ".py",
      "mimetype": "text/x-python",
      "name": "python",
      "nbconvert_exporter": "python",
      "pygments_lexer": "ipython3",
      "version": "3.7.3"
    },
    "colab": {
      "name": "Copy of TDS Generating Bitcoin Keys.ipynb",
      "provenance": [],
      "collapsed_sections": []
    },
    "accelerator": "GPU"
  },
  "cells": [
    {
      "cell_type": "markdown",
      "metadata": {
        "id": "Jhs8eChI2MA3"
      },
      "source": [
        "# Creating bitcoin private and public keys"
      ]
    },
    {
      "cell_type": "code",
      "metadata": {
        "colab": {
          "base_uri": "https://localhost:8080/"
        },
        "id": "zNrjeOnd2MBH",
        "outputId": "8e408638-1b63-40f7-e6ca-b30d126766bc"
      },
      "source": [
        "!pip install bitcoin\n",
        "from bitcoin import *"
      ],
      "execution_count": null,
      "outputs": [
        {
          "output_type": "stream",
          "text": [
            "Requirement already satisfied: bitcoin in /usr/local/lib/python3.7/dist-packages (1.1.42)\n"
          ],
          "name": "stdout"
        }
      ]
    },
    {
      "cell_type": "code",
      "metadata": {
        "colab": {
          "base_uri": "https://localhost:8080/"
        },
        "id": "65VKXEBh2MBJ",
        "outputId": "cf3cbf45-4c91-43fb-f455-0c3d7dc342ff"
      },
      "source": [
        "#Generate private key\n",
        "my_private_key = random_key()\n",
        "\n",
        "#display private key\n",
        "print(\"Private Key: %s\\n\" % my_private_key)\n",
        "\n",
        "#Generate public key\n",
        "my_public_key = privtopub(my_private_key)\n",
        "print(\"Public Key: %s\\n\" % my_public_key)\n",
        "\n",
        "#Create a bitcoin address\n",
        "my_bitcoin_address = pubtoaddr(my_public_key)\n",
        "print(\"Bitcoin Address: %s\\n\" % my_bitcoin_address)"
      ],
      "execution_count": null,
      "outputs": [
        {
          "output_type": "stream",
          "text": [
            "Private Key: 82bd4291ebaa6508001600da1fea067f4b63998ed85d996aed41df944c3762be\n",
            "\n",
            "Public Key: 04f85fa7c009dba8d1e6b7229949116f03cb3de0dfaf4d6ef3e6320a278dfc8dd91baf058fcafe0b5fbf94d09d79412c629d19cc9debceb1676d3c6c794630943d\n",
            "\n",
            "Bitcoin Address: 1FtaFRNgxVqq4s4szhC74EZkJyShmeH5AU\n",
            "\n"
          ],
          "name": "stdout"
        }
      ]
    },
    {
      "cell_type": "code",
      "metadata": {
        "colab": {
          "base_uri": "https://localhost:8080/",
          "height": 35
        },
        "id": "PXJGUetV36xP",
        "outputId": "c3c8dea2-5daf-4f6a-f07c-628d5c8ef4ac"
      },
      "source": [
        "from hashlib import sha256\n",
        "sha256(\"ABC\".encode(\"ascii\")).hexdigest()"
      ],
      "execution_count": null,
      "outputs": [
        {
          "output_type": "execute_result",
          "data": {
            "application/vnd.google.colaboratory.intrinsic+json": {
              "type": "string"
            },
            "text/plain": [
              "'b5d4045c3f466fa91fe2cc6abe79232a1a57cdf104f7a26e716e0a1e2789df78'"
            ]
          },
          "metadata": {
            "tags": []
          },
          "execution_count": 1
        }
      ]
    },
    {
      "cell_type": "code",
      "metadata": {
        "colab": {
          "base_uri": "https://localhost:8080/"
        },
        "id": "5mJWQ7UI2MBL",
        "outputId": "f91608ea-4625-43df-e8bb-f96ac3cdb835"
      },
      "source": [
        "from hashlib import sha256\n",
        "def SHA256(text):\n",
        "  return sha256(text.encode(\"ascii\")).hexdigest()\n",
        "\n",
        "# MAX_NONCE=10000000\n",
        "def mine(block_number,transaction,previous_hash,prefix_zeros):\n",
        "  prefix_str='0'*prefix_zeros\n",
        "  nonce=0\n",
        "  while(1):\n",
        "    text= str(block_number) + transaction + previous_hash + str(nonce)\n",
        "    hash = SHA256(text)\n",
        "    # print(hash)\n",
        "    nonce=nonce+1\n",
        "    if hash.startswith(prefix_str):\n",
        "      print(\"Bitcoin mined with nonce value :\",nonce)\n",
        "      return hash\n",
        "  print(\"Could not find a hash in the given range of upto\", MAX_NONCE)\n",
        "\n",
        "transactions='''\n",
        "A->B->10\n",
        "B->c->5\n",
        "'''\n",
        "difficulty = 5\n",
        "import time as t\n",
        "begin=t.time()\n",
        "new_hash = mine(684260,transactions,\"000000000000000000006bd3d6ef94d8a01de84e171d3553534783b128f06aad\",difficulty)\n",
        "print(\"Hash value : \",new_hash)\n",
        "time_taken=t.time()- begin\n",
        "print(\"The mining process took \",time_taken,\"seconds\")"
      ],
      "execution_count": null,
      "outputs": [
        {
          "output_type": "stream",
          "text": [
            "Bitcoin mined with nonce value : 2387326\n",
            "Hash value :  00000f5254db00fa0dde976d53bb39c11f9350292949493943a90610d62c1a5e\n",
            "The mining process took  4.92674994468689 seconds\n"
          ],
          "name": "stdout"
        }
      ]
    },
    {
      "cell_type": "code",
      "metadata": {
        "colab": {
          "base_uri": "https://localhost:8080/"
        },
        "id": "W2X5lUaZw-10",
        "outputId": "46bde397-c976-4340-8f95-ba08e5e8dc55"
      },
      "source": [
        "!nvidia-smi -L"
      ],
      "execution_count": null,
      "outputs": [
        {
          "output_type": "stream",
          "text": [
            "GPU 0: Tesla K80 (UUID: GPU-e0fb0938-2398-20e7-f2e0-eb3dc63bb297)\n"
          ],
          "name": "stdout"
        }
      ]
    },
    {
      "cell_type": "code",
      "metadata": {
        "colab": {
          "base_uri": "https://localhost:8080/"
        },
        "id": "v8_82spQ2MBN",
        "outputId": "3aaae56d-b49d-446f-d7cb-65f69552094f"
      },
      "source": [
        "#Create a bitcoin address\n",
        "my_bitcoin_address = pubtoaddr(my_public_key)\n",
        "print(\"Bitcoin Address: %s\\n\" % my_bitcoin_address)"
      ],
      "execution_count": null,
      "outputs": [
        {
          "output_type": "stream",
          "text": [
            "Bitcoin Address: 17YGaiSXdFrB8vtrTWWByNzgD1zCJUgdC1\n",
            "\n"
          ],
          "name": "stdout"
        }
      ]
    },
    {
      "cell_type": "markdown",
      "metadata": {
        "id": "L_iwxDqM2MBO"
      },
      "source": [
        "# Creating a multisignature bitcoin address"
      ]
    },
    {
      "cell_type": "code",
      "metadata": {
        "colab": {
          "base_uri": "https://localhost:8080/"
        },
        "id": "_ZKAxT0_2MBO",
        "outputId": "6df42ce8-0f52-4052-e291-c26211d663d0"
      },
      "source": [
        "#!/usr/bin/env python\n",
        "'''\n",
        "Title - Create multi-signature address\n",
        "\n",
        "This program demonstrates the creation of\n",
        "Multi-signature bitcoin address.\n",
        "'''\n",
        "# import bitcoin\n",
        "from bitcoin import *\n",
        "\n",
        "# Create Private Keys\n",
        "my_private_key1 = random_key()\n",
        "my_private_key2 = random_key()\n",
        "my_private_key3 = random_key()\n",
        "\n",
        "print(\"Private Key1: %s\" % my_private_key1)\n",
        "print(\"Private Key2: %s\" % my_private_key2)\n",
        "print(\"Private Key3: %s\" % my_private_key3)\n",
        "print('\\n')"
      ],
      "execution_count": null,
      "outputs": [
        {
          "output_type": "stream",
          "text": [
            "Private Key1: 83608a50f45a10b8de8506f5d88d56f0eb357e9c344c2ecf5f8f15fbe962a0eb\n",
            "Private Key2: 97c21e6db325c126e816d72bd042bbc8d7e7a0d7866db3d5c16a7090dde3f954\n",
            "Private Key3: 0262b91bd6257d824a49886af2d08cde1da3407f3640baaace029953fca5ee01\n",
            "\n",
            "\n"
          ],
          "name": "stdout"
        }
      ]
    },
    {
      "cell_type": "code",
      "metadata": {
        "colab": {
          "base_uri": "https://localhost:8080/"
        },
        "id": "ioVBPEpJ2MBQ",
        "outputId": "ac64d118-37c9-4571-f1f5-7cab9eb196bb"
      },
      "source": [
        "# Create Public keys\n",
        "my_public_key1 = privtopub(my_private_key1)\n",
        "my_public_key2 = privtopub(my_private_key2)\n",
        "my_public_key3 = privtopub(my_private_key3)\n",
        "\n",
        "print(\"Public Key1: %s\" % my_public_key1)\n",
        "print(\"Public Key2: %s\" % my_public_key2)\n",
        "print(\"Public Key3: %s\" % my_public_key3)\n",
        "print('\\n')"
      ],
      "execution_count": null,
      "outputs": [
        {
          "output_type": "stream",
          "text": [
            "Public Key1: 04d9bfd9628a430a9fa5bbcd8531f88b4c2772a6c4ed200247b4dd93c264fa95e3ed58452c8fbfcfb297db937c504c763d793c221c8bb7b2a843b565428e80891e\n",
            "Public Key2: 04cc61257fa216ef3d305d38aced7952f838d105b516f144bfeb8921ba0a9f582b11d27d58c138501fc5be27acdc2cf1c941722da1b3bcac57857e491639e2ccd6\n",
            "Public Key3: 0426d1b17c0d9c6fe7b6258eb696c253a741b8ab2767c48cfad126ef392e49eaa0b3cda2dada1d6bd47358185ac0316599ca71d6696c5756dd8a8545445aaaad55\n",
            "\n",
            "\n"
          ],
          "name": "stdout"
        }
      ]
    },
    {
      "cell_type": "code",
      "metadata": {
        "colab": {
          "base_uri": "https://localhost:8080/"
        },
        "id": "DU27WEpw2MBR",
        "outputId": "9b26f14a-b3e0-44f9-8d0f-64b27752569e"
      },
      "source": [
        "# Create Multi-signature address\n",
        "my_multi_sig = mk_multisig_script(my_private_key1, my_private_key2, my_private_key3, 2,3)\n",
        "my_multi_address = scriptaddr(my_multi_sig)\n",
        "print(\"Multi signature address: %s\" % my_multi_address)"
      ],
      "execution_count": null,
      "outputs": [
        {
          "output_type": "stream",
          "text": [
            "Multi signature address: 396KXBMsrfMaiYt1HcqaNiNidXGyv1oi2f\n"
          ],
          "name": "stdout"
        }
      ]
    },
    {
      "cell_type": "code",
      "metadata": {
        "colab": {
          "base_uri": "https://localhost:8080/"
        },
        "id": "ocbYuWaL2MBS",
        "outputId": "5882be0c-4aa2-49a7-e754-d9bdf9301b93"
      },
      "source": [
        "#looking at transaction history of a bitcoin address\n",
        "\n",
        "'''\n",
        "Title - Bitcoin Transaction History\n",
        "\n",
        "This program demonstrates listing history of a bitcoin address.\n",
        "'''\n",
        "# import bitcoin\n",
        "from bitcoin import *\n",
        "\n",
        "#View address transaction history\n",
        "a_valid_bitcoin_address = '329e5RtfraHHNPKGDMXNxtuS4QjZTXqBDg'\n",
        "print(history(a_valid_bitcoin_address))"
      ],
      "execution_count": null,
      "outputs": [
        {
          "output_type": "stream",
          "text": [
            "[{'address': '329e5RtfraHHNPKGDMXNxtuS4QjZTXqBDg', 'value': 33769275, 'output': 'a09bc970853bd3acc1e3d6ca53edcaa4ecb0c48aa8df6f49a7a9b50e09cd8a1b:1', 'block_height': 536072, 'spend': 'e22ac6a71e5b3fb55c3e8bf29522424ba822c0c5cba91d25918259a93313a54f:0'}]\n"
          ],
          "name": "stdout"
        }
      ]
    },
    {
      "cell_type": "markdown",
      "metadata": {
        "id": "oFPLy7hJ2MBT"
      },
      "source": [
        "# Getting bitcoin exchange rates from Blockchain.info"
      ]
    },
    {
      "cell_type": "code",
      "metadata": {
        "colab": {
          "base_uri": "https://localhost:8080/"
        },
        "id": "DQpcoq6a2MBU",
        "outputId": "0cb5d00c-1792-4f7c-8a6f-b1f0f2ad5090"
      },
      "source": [
        "!pip install blockchain\n",
        "from blockchain import exchangerates"
      ],
      "execution_count": null,
      "outputs": [
        {
          "output_type": "stream",
          "text": [
            "Collecting blockchain\n",
            "  Downloading https://files.pythonhosted.org/packages/0b/85/ca826affaeaad16506d3b19525f18cf18de394d52d4a9e645ef7dc9d59a2/blockchain-1.4.4.tar.gz\n",
            "Collecting enum-compat\n",
            "  Downloading https://files.pythonhosted.org/packages/55/ae/467bc4509246283bb59746e21a1a2f5a8aecbef56b1fa6eaca78cd438c8b/enum_compat-0.0.3-py3-none-any.whl\n",
            "Requirement already satisfied: future in /usr/local/lib/python3.7/dist-packages (from blockchain) (0.16.0)\n",
            "Building wheels for collected packages: blockchain\n",
            "  Building wheel for blockchain (setup.py) ... \u001b[?25l\u001b[?25hdone\n",
            "  Created wheel for blockchain: filename=blockchain-1.4.4-cp37-none-any.whl size=11510 sha256=17c0925c6cff233cefa71f237bf9d647c7f1a74c5f5123cf08b8701a1a2e9a7f\n",
            "  Stored in directory: /root/.cache/pip/wheels/6e/d9/4f/65e76bdafa4f3a950c679c9d999664c604b33077b0a9d014e8\n",
            "Successfully built blockchain\n",
            "Installing collected packages: enum-compat, blockchain\n",
            "Successfully installed blockchain-1.4.4 enum-compat-0.0.3\n"
          ],
          "name": "stdout"
        }
      ]
    },
    {
      "cell_type": "code",
      "metadata": {
        "colab": {
          "base_uri": "https://localhost:8080/"
        },
        "id": "lXaU_9F62MBU",
        "outputId": "4c72643a-990d-4cb0-9071-d845636814ee"
      },
      "source": [
        "# get the Bitcoin rates in various currencies\n",
        "ticker = exchangerates.get_ticker()\n",
        "\n",
        "# print the Bitcoin price for every currency\n",
        "print(\"Bitcoin Prices in various currencies:\")\n",
        "for k in ticker:\n",
        " print(k, ticker[k].p15min)"
      ],
      "execution_count": null,
      "outputs": [
        {
          "output_type": "stream",
          "text": [
            "Bitcoin Prices in various currencies:\n",
            "USD 37864.94\n",
            "AUD 48927.15\n",
            "BRL 201604.33\n",
            "CAD 45658.99\n",
            "CHF 33957.85\n",
            "CLP 27372568.63\n",
            "CNY 243316.35\n",
            "DKK 230518.38\n",
            "EUR 31093.26\n",
            "GBP 26761.09\n",
            "HKD 294040.61\n",
            "INR 2760997.92\n",
            "ISK 4683893.68\n",
            "JPY 4121917.22\n",
            "KRW 42619203.6\n",
            "NZD 52574.98\n",
            "PLN 138988.39\n",
            "RUB 2792321.96\n",
            "SEK 315088.97\n",
            "SGD 50334.63\n",
            "THB 1186800.97\n",
            "TRY 317902.72\n",
            "TWD 1057814.03\n"
          ],
          "name": "stdout"
        }
      ]
    },
    {
      "cell_type": "code",
      "metadata": {
        "colab": {
          "base_uri": "https://localhost:8080/"
        },
        "id": "H-e4Ugp22MBV",
        "outputId": "13eaa4d6-ea0b-4d84-9c80-f81f0b7b5604"
      },
      "source": [
        "# Getting Bitcoin value for a particular amount and currency\n",
        "btc = exchangerates.to_btc('INR', 10000)\n",
        "print(\"\\n10000 INR in Bitcoin: %s \" % btc)"
      ],
      "execution_count": null,
      "outputs": [
        {
          "output_type": "stream",
          "text": [
            "\n",
            "10000 INR in Bitcoin: 0.00362188 \n"
          ],
          "name": "stdout"
        }
      ]
    },
    {
      "cell_type": "markdown",
      "metadata": {
        "id": "9UPbOLd02MBW"
      },
      "source": [
        "### Running statistics"
      ]
    },
    {
      "cell_type": "code",
      "metadata": {
        "colab": {
          "base_uri": "https://localhost:8080/"
        },
        "id": "eK6imbad2MBX",
        "outputId": "1f5a3772-7618-4f51-89bd-0b86a8022902"
      },
      "source": [
        "from blockchain import statistics\n",
        "\n",
        "# get the stats object\n",
        "stats = statistics.get()\n",
        "\n",
        "# get and print Bitcoin trade volume\n",
        "print(\"Bitcoin Trade Volume: %s\\n\" % stats.trade_volume_btc)"
      ],
      "execution_count": null,
      "outputs": [
        {
          "output_type": "stream",
          "text": [
            "Bitcoin Trade Volume: 75450.76\n",
            "\n"
          ],
          "name": "stdout"
        }
      ]
    },
    {
      "cell_type": "code",
      "metadata": {
        "colab": {
          "base_uri": "https://localhost:8080/"
        },
        "id": "UUlDeTrX2MBY",
        "outputId": "13e56646-31db-4fa1-96ea-7d8a714f8b98"
      },
      "source": [
        "# get and print Bitcoin mined\n",
        "print(\"Bitcoin mined: %s\\n\" % stats.btc_mined)\n",
        "\n",
        "# get and print Bitcoin market price in usd\n",
        "print(\"Bitcoin market price: %s\\n\" % stats.market_price_usd)"
      ],
      "execution_count": null,
      "outputs": [
        {
          "output_type": "stream",
          "text": [
            "Bitcoin mined: 1250000000\n",
            "\n",
            "Bitcoin market price: 40395.31\n",
            "\n"
          ],
          "name": "stdout"
        }
      ]
    },
    {
      "cell_type": "code",
      "metadata": {
        "id": "iqcPVrRW2MBY"
      },
      "source": [
        ""
      ],
      "execution_count": null,
      "outputs": []
    }
  ]
}